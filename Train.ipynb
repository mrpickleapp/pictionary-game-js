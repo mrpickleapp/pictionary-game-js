{
 "cells": [
  {
   "cell_type": "markdown",
   "metadata": {},
   "source": [
    "# Train the model used to recognise images"
   ]
  },
  {
   "cell_type": "code",
   "execution_count": 3,
   "metadata": {},
   "outputs": [],
   "source": [
    "import numpy as np\n",
    "import importlib"
   ]
  },
  {
   "cell_type": "markdown",
   "metadata": {},
   "source": [
    "## Process data\n",
    "\n",
    "- Raw data (not included in this repository) is sourced from the Google Quick Draw project: https://github.com/googlecreativelab/quickdraw-dataset\n",
    "- In order to successfully recognise partial images, the model is trained on each image at each stage of its drawing. For example, if a drawing has three strokes, it will appear in the dataset in three versions.\n",
    "- Each drawing (at each stage) is trimmed to remove whitespace, scaled to fill the canvas, and then scaled to a 0-1 range."
   ]
  },
  {
   "cell_type": "code",
   "execution_count": 4,
   "metadata": {},
   "outputs": [],
   "source": [
    "import process\n",
    "importlib.reload(process)\n",
    "\n",
    "data_folder = 'data/'\n",
    "\n",
    "CATEGORIES = process.get_categories_from_data(data_folder)\n",
    "NUM_CATEGORIES = len(CATEGORIES)\n",
    "category_ids = dict(zip(CATEGORIES, range(NUM_CATEGORIES)))\n",
    "\n",
    "MAX_SEQ_LEN = 200\n",
    "\n",
    "TRAIN_SAMPLE_SIZE = 4096     # number per category\n",
    "TEST_SAMPLE_SIZE = 1024\n",
    "\n",
    "X_train, Y_train, X_test, Y_test = process.get_train_test_data(data_folder, CATEGORIES, TRAIN_SAMPLE_SIZE, TEST_SAMPLE_SIZE)"
   ]
  },
  {
   "cell_type": "code",
   "execution_count": 5,
   "metadata": {},
   "outputs": [
    {
     "name": "stdout",
     "output_type": "stream",
     "text": [
      "(1413120, 200, 3)\n",
      "(1413120,)\n",
      "(1024, 200, 3)\n",
      "(1024,)\n"
     ]
    }
   ],
   "source": [
    "print(X_train.shape)\n",
    "print(Y_train.shape)\n",
    "print(X_test.shape)\n",
    "print(Y_test.shape)"
   ]
  },
  {
   "cell_type": "markdown",
   "metadata": {},
   "source": [
    "## Training"
   ]
  },
  {
   "cell_type": "code",
   "execution_count": 6,
   "metadata": {},
   "outputs": [],
   "source": [
    "import tensorflow as tf\n",
    "from tensorflow.keras.callbacks import ModelCheckpoint\n",
    "\n",
    "import classifier\n",
    "importlib.reload(classifier)\n",
    "\n",
    "input_shape = (MAX_SEQ_LEN, 3)\n",
    "rnn = classifier.RNN(input_shape, NUM_CATEGORIES)"
   ]
  },
  {
   "cell_type": "code",
   "execution_count": 7,
   "metadata": {},
   "outputs": [
    {
     "name": "stdout",
     "output_type": "stream",
     "text": [
      "Epoch 1/10\n",
      "22080/22080 [==============================] - 1746s 79ms/step - loss: 4.4246 - accuracy: 0.1120 - val_loss: 2.7225 - val_accuracy: 0.5342\n",
      "Epoch 2/10\n",
      "22080/22080 [==============================] - 1829s 83ms/step - loss: 3.2820 - accuracy: 0.2754 - val_loss: 2.7065 - val_accuracy: 0.5508\n",
      "Epoch 3/10\n",
      "22080/22080 [==============================] - 1801s 82ms/step - loss: 2.8968 - accuracy: 0.3444 - val_loss: 2.0356 - val_accuracy: 0.6318\n",
      "Epoch 4/10\n",
      "22080/22080 [==============================] - 2218s 100ms/step - loss: 2.6946 - accuracy: 0.3822 - val_loss: 2.2898 - val_accuracy: 0.6396\n",
      "Epoch 5/10\n",
      "22080/22080 [==============================] - 1766s 80ms/step - loss: 2.5629 - accuracy: 0.4076 - val_loss: 2.7037 - val_accuracy: 0.5361\n",
      "Epoch 6/10\n",
      "22080/22080 [==============================] - 1689s 76ms/step - loss: 2.4690 - accuracy: 0.4260 - val_loss: 2.4154 - val_accuracy: 0.5918\n",
      "Epoch 7/10\n",
      "22080/22080 [==============================] - 1768s 80ms/step - loss: 2.3972 - accuracy: 0.4401 - val_loss: 2.5615 - val_accuracy: 0.6162\n",
      "Epoch 8/10\n",
      "22080/22080 [==============================] - 1787s 81ms/step - loss: 2.3416 - accuracy: 0.4508 - val_loss: 2.2833 - val_accuracy: 0.6426\n",
      "Epoch 9/10\n",
      "22080/22080 [==============================] - 1910s 86ms/step - loss: 2.2972 - accuracy: 0.4603 - val_loss: 2.4204 - val_accuracy: 0.6240\n",
      "Epoch 10/10\n",
      "22080/22080 [==============================] - 1929s 87ms/step - loss: 2.2603 - accuracy: 0.4681 - val_loss: 2.5614 - val_accuracy: 0.6006\n"
     ]
    }
   ],
   "source": [
    "# Training parameters\n",
    "epochs = 10\n",
    "batch_size = 64\n",
    "\n",
    "# Save the model weights with the best validation accuracy\n",
    "checkpoint_filepath = 'best_model_weights.h5'\n",
    "model_checkpoint_callback = ModelCheckpoint(\n",
    "    filepath=checkpoint_filepath,\n",
    "    save_weights_only=True,\n",
    "    # monitor='val_accuracy',\n",
    "    # mode='max',\n",
    "    # save_best_only=True\n",
    ")\n",
    "\n",
    "# Training the model\n",
    "history = rnn.model.fit(\n",
    "    X_train,             # Training data\n",
    "    Y_train,             # Training labels\n",
    "    epochs=epochs, \n",
    "    batch_size=batch_size,\n",
    "    validation_data=(X_test, Y_test), # Validation data and labels\n",
    "    shuffle=True,\n",
    "    callbacks=[model_checkpoint_callback]\n",
    ")"
   ]
  }
 ],
 "metadata": {
  "kernelspec": {
   "display_name": "Python 3",
   "language": "python",
   "name": "python3"
  },
  "language_info": {
   "codemirror_mode": {
    "name": "ipython",
    "version": 3
   },
   "file_extension": ".py",
   "mimetype": "text/x-python",
   "name": "python",
   "nbconvert_exporter": "python",
   "pygments_lexer": "ipython3",
   "version": "3.11.5"
  },
  "orig_nbformat": 4
 },
 "nbformat": 4,
 "nbformat_minor": 2
}
