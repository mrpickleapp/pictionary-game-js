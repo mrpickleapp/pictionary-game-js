{
 "cells": [
  {
   "cell_type": "markdown",
   "metadata": {},
   "source": [
    "# Convert Python model into javascript version\n",
    "\n",
    "- Converts the trained Python TensorFlow model into a Javascript TensorFlow model that can be run client-side in the browser"
   ]
  },
  {
   "cell_type": "code",
   "execution_count": 6,
   "metadata": {},
   "outputs": [
    {
     "name": "stderr",
     "output_type": "stream",
     "text": [
      "/Users/willseymour/Code/Pictionary/.venv/lib/python3.11/site-packages/keras/src/engine/training.py:3079: UserWarning: You are saving your model as an HDF5 file via `model.save()`. This file format is considered legacy. We recommend using instead the native Keras format, e.g. `model.save('my_model.keras')`.\n",
      "  saving_api.save_model(\n"
     ]
    }
   ],
   "source": [
    "import tensorflowjs as tfjs\n",
    "\n",
    "import classifier\n",
    "import process\n",
    "\n",
    "data_folder = 'data'\n",
    "CATEGORIES = process.get_categories_from_data(data_folder)\n",
    "\n",
    "MAX_SEQ_LEN = 200\n",
    "\n",
    "model = classifier.RNN(input_shape=(MAX_SEQ_LEN, 3), num_categories=len(CATEGORIES), load_from_fname=\"best_model_weights.h5\")\n",
    "\n",
    "tfjs.converters.save_keras_model(model.model, 'js_model')\n"
   ]
  }
 ],
 "metadata": {
  "kernelspec": {
   "display_name": ".venv",
   "language": "python",
   "name": "python3"
  },
  "language_info": {
   "codemirror_mode": {
    "name": "ipython",
    "version": 3
   },
   "file_extension": ".py",
   "mimetype": "text/x-python",
   "name": "python",
   "nbconvert_exporter": "python",
   "pygments_lexer": "ipython3",
   "version": "3.11.5"
  },
  "orig_nbformat": 4
 },
 "nbformat": 4,
 "nbformat_minor": 2
}
